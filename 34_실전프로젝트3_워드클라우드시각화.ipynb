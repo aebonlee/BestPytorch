{
 "cells": [
  {
   "cell_type": "code",
   "execution_count": null,
   "id": "a381ffaa-4789-4c2a-ba28-d03a0c4137eb",
   "metadata": {},
   "outputs": [],
   "source": [
    "!pip install konlpy\n",
    "!pip install requests\n",
    "!pip install beautifulsoup4\n",
    "!pip install regex\n",
    "!apt install fonts-nanum fonts-nanum-extra\n",
    "!pip install konlpy\n",
    "!pip install soynlp"
   ]
  },
  {
   "metadata": {},
   "cell_type": "code",
   "outputs": [],
   "execution_count": null,
   "source": [
    "import requests\n",
    "from bs4 import BeautifulSoup as bs\n",
    "import regex\n",
    "from konlpy.tag import Hannanum, Komoran, Kkma, Okt, Mecab"
   ],
   "id": "18b19cdee2827830"
  },
  {
   "metadata": {},
   "cell_type": "code",
   "outputs": [],
   "execution_count": null,
   "source": "",
   "id": "33eaae1e9b8b7ccf"
  },
  {
   "cell_type": "code",
   "execution_count": null,
   "id": "7e10b2da-447f-4f08-a36c-139bec4059f4",
   "metadata": {},
   "outputs": [],
   "source": [
    "#네이버 뉴스 크롤링\n",
    "def crawling_new_text(url):\n",
    "    #가져올 url을 입력\n",
    "    # #url = \"https://n.news.naver.com/mnews/article/050/0000077698\"\n",
    "    response = requests.get(\"https://n.news.naver.com/mnews/article/050/0000077698\")\n",
    "\n",
    "    #우리가 얻으려는 html 내용을 담아줌\n",
    "    html_text = response.text\n",
    "    #print(html_text)\n",
    "\n",
    "    #html을 잘 정리된 형태로 변환\n",
    "    soup = bs(html_text, 'html.parser')\n",
    "\n",
    "    news_content = soup.select(\"div.newsct_article\")\n",
    "    #print(news_content)\n",
    "\n",
    "    #정규표현식을 이용해 콘텐츠 내용만 가져오기\n",
    "    #<.+?> : content안의 내용만 남기기 위해서 특정 패턴을 찾아내는 정규표현식\n",
    "    content = regex.sub('<.+?>', '', str(news_content), 0).strip()\n",
    "\n",
    "\n",
    "    pattern = r'[\\[\\]]'\n",
    "    content = regex.sub(pattern, '', content).strip()\n",
    "\n",
    "\n",
    "    #print(content)\n",
    "    return content"
   ]
  },
  {
   "metadata": {},
   "cell_type": "code",
   "outputs": [],
   "execution_count": null,
   "source": "",
   "id": "a3a93481a120e02b"
  }
 ],
 "metadata": {
  "kernelspec": {
   "display_name": "Python 3 (ipykernel)",
   "language": "python",
   "name": "python3"
  },
  "language_info": {
   "codemirror_mode": {
    "name": "ipython",
    "version": 3
   },
   "file_extension": ".py",
   "mimetype": "text/x-python",
   "name": "python",
   "nbconvert_exporter": "python",
   "pygments_lexer": "ipython3",
   "version": "3.11.10"
  }
 },
 "nbformat": 4,
 "nbformat_minor": 5
}
